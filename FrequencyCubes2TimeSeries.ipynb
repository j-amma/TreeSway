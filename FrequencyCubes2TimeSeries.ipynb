{
 "cells": [
  {
   "cell_type": "markdown",
   "id": "9b4f431b",
   "metadata": {},
   "source": [
    "# Frequency Cubes 2 Time Series\n",
    "A script to facilitate generating a time series from processed videos.\n",
    "\n",
    "Joe Ammatelli | jamma@uw.edu | 8-16-22"
   ]
  },
  {
   "cell_type": "code",
   "execution_count": 30,
   "id": "e0b073b9",
   "metadata": {},
   "outputs": [],
   "source": [
    "import numpy as np\n",
    "import pandas as pd\n",
    "import matplotlib.pyplot as plt\n",
    "import os\n",
    "import video_pixel_timeseries_analysis as vptsa"
   ]
  },
  {
   "cell_type": "markdown",
   "id": "5c418a88",
   "metadata": {},
   "source": [
    "## Define regions to process, regional frequency statistics to record, and masking approach"
   ]
  },
  {
   "cell_type": "code",
   "execution_count": 31,
   "id": "7d2a45b7",
   "metadata": {},
   "outputs": [],
   "source": [
    "REGION_CONFIG = {'drought' : {'roi' : [0, None, 0, None],\n",
    "                              'sources' : ['masked', 'unmasked'],\n",
    "                              'stats' : ['mean', 'median', 'mode']},\n",
    "                }\n",
    "\n",
    "MASK_APPROACH = 'median of max' "
   ]
  },
  {
   "cell_type": "markdown",
   "id": "3676c89a",
   "metadata": {},
   "source": [
    "## Define paths to video-datetime mapping, processed videos"
   ]
  },
  {
   "cell_type": "code",
   "execution_count": 32,
   "id": "4df3689d",
   "metadata": {},
   "outputs": [],
   "source": [
    "TIMESERIES_PATH = './treesway_timeseries.csv'\n",
    "PROCESSED_VIDS_PATH = 'processed_arrays'"
   ]
  },
  {
   "cell_type": "markdown",
   "id": "e78b299e",
   "metadata": {},
   "source": [
    "## Load time series dataframe"
   ]
  },
  {
   "cell_type": "code",
   "execution_count": 33,
   "id": "ee1c6c08",
   "metadata": {},
   "outputs": [
    {
     "data": {
      "text/html": [
       "<div>\n",
       "<style scoped>\n",
       "    .dataframe tbody tr th:only-of-type {\n",
       "        vertical-align: middle;\n",
       "    }\n",
       "\n",
       "    .dataframe tbody tr th {\n",
       "        vertical-align: top;\n",
       "    }\n",
       "\n",
       "    .dataframe thead th {\n",
       "        text-align: right;\n",
       "    }\n",
       "</style>\n",
       "<table border=\"1\" class=\"dataframe\">\n",
       "  <thead>\n",
       "    <tr style=\"text-align: right;\">\n",
       "      <th></th>\n",
       "      <th>vid_name</th>\n",
       "    </tr>\n",
       "    <tr>\n",
       "      <th>datetime</th>\n",
       "      <th></th>\n",
       "    </tr>\n",
       "  </thead>\n",
       "  <tbody>\n",
       "    <tr>\n",
       "      <th>2022-05-15 11:30:00</th>\n",
       "      <td>GOPR0001</td>\n",
       "    </tr>\n",
       "    <tr>\n",
       "      <th>2022-05-15 12:00:00</th>\n",
       "      <td>GOPR0002</td>\n",
       "    </tr>\n",
       "    <tr>\n",
       "      <th>2022-06-07 09:00:00</th>\n",
       "      <td>GOPR0003</td>\n",
       "    </tr>\n",
       "  </tbody>\n",
       "</table>\n",
       "</div>"
      ],
      "text/plain": [
       "                     vid_name\n",
       "datetime                     \n",
       "2022-05-15 11:30:00  GOPR0001\n",
       "2022-05-15 12:00:00  GOPR0002\n",
       "2022-06-07 09:00:00  GOPR0003"
      ]
     },
     "execution_count": 33,
     "metadata": {},
     "output_type": "execute_result"
    }
   ],
   "source": [
    "# load dataframe\n",
    "treesway_df = pd.read_csv(TIMESERIES_PATH, index_col=0, parse_dates=[0], infer_datetime_format=True)\n",
    "treesway_df"
   ]
  },
  {
   "cell_type": "markdown",
   "id": "657ae21f",
   "metadata": {},
   "source": [
    "## Add columns for each metric specified in `REGION_CONFIG`"
   ]
  },
  {
   "cell_type": "code",
   "execution_count": 34,
   "id": "02147b26",
   "metadata": {},
   "outputs": [
    {
     "data": {
      "text/html": [
       "<div>\n",
       "<style scoped>\n",
       "    .dataframe tbody tr th:only-of-type {\n",
       "        vertical-align: middle;\n",
       "    }\n",
       "\n",
       "    .dataframe tbody tr th {\n",
       "        vertical-align: top;\n",
       "    }\n",
       "\n",
       "    .dataframe thead th {\n",
       "        text-align: right;\n",
       "    }\n",
       "</style>\n",
       "<table border=\"1\" class=\"dataframe\">\n",
       "  <thead>\n",
       "    <tr style=\"text-align: right;\">\n",
       "      <th></th>\n",
       "      <th>vid_name</th>\n",
       "      <th>drought_masked_mean</th>\n",
       "      <th>drought_masked_median</th>\n",
       "      <th>drought_masked_mode</th>\n",
       "      <th>drought_unmasked_mean</th>\n",
       "      <th>drought_unmasked_median</th>\n",
       "      <th>drought_unmasked_mode</th>\n",
       "    </tr>\n",
       "    <tr>\n",
       "      <th>datetime</th>\n",
       "      <th></th>\n",
       "      <th></th>\n",
       "      <th></th>\n",
       "      <th></th>\n",
       "      <th></th>\n",
       "      <th></th>\n",
       "      <th></th>\n",
       "    </tr>\n",
       "  </thead>\n",
       "  <tbody>\n",
       "    <tr>\n",
       "      <th>2022-05-15 11:30:00</th>\n",
       "      <td>GOPR0001</td>\n",
       "      <td>NaN</td>\n",
       "      <td>NaN</td>\n",
       "      <td>NaN</td>\n",
       "      <td>NaN</td>\n",
       "      <td>NaN</td>\n",
       "      <td>NaN</td>\n",
       "    </tr>\n",
       "    <tr>\n",
       "      <th>2022-05-15 12:00:00</th>\n",
       "      <td>GOPR0002</td>\n",
       "      <td>NaN</td>\n",
       "      <td>NaN</td>\n",
       "      <td>NaN</td>\n",
       "      <td>NaN</td>\n",
       "      <td>NaN</td>\n",
       "      <td>NaN</td>\n",
       "    </tr>\n",
       "    <tr>\n",
       "      <th>2022-06-07 09:00:00</th>\n",
       "      <td>GOPR0003</td>\n",
       "      <td>NaN</td>\n",
       "      <td>NaN</td>\n",
       "      <td>NaN</td>\n",
       "      <td>NaN</td>\n",
       "      <td>NaN</td>\n",
       "      <td>NaN</td>\n",
       "    </tr>\n",
       "  </tbody>\n",
       "</table>\n",
       "</div>"
      ],
      "text/plain": [
       "                     vid_name  drought_masked_mean  drought_masked_median  \\\n",
       "datetime                                                                    \n",
       "2022-05-15 11:30:00  GOPR0001                  NaN                    NaN   \n",
       "2022-05-15 12:00:00  GOPR0002                  NaN                    NaN   \n",
       "2022-06-07 09:00:00  GOPR0003                  NaN                    NaN   \n",
       "\n",
       "                     drought_masked_mode  drought_unmasked_mean  \\\n",
       "datetime                                                          \n",
       "2022-05-15 11:30:00                  NaN                    NaN   \n",
       "2022-05-15 12:00:00                  NaN                    NaN   \n",
       "2022-06-07 09:00:00                  NaN                    NaN   \n",
       "\n",
       "                     drought_unmasked_median  drought_unmasked_mode  \n",
       "datetime                                                             \n",
       "2022-05-15 11:30:00                      NaN                    NaN  \n",
       "2022-05-15 12:00:00                      NaN                    NaN  \n",
       "2022-06-07 09:00:00                      NaN                    NaN  "
      ]
     },
     "execution_count": 34,
     "metadata": {},
     "output_type": "execute_result"
    }
   ],
   "source": [
    "# add new column for each roi and for each stat ()\n",
    "for region in REGION_CONFIG.keys():\n",
    "    for source in REGION_CONFIG[region]['sources']:\n",
    "        for stat in REGION_CONFIG[region]['stats']:\n",
    "            treesway_df[f'{region}_{source}_{stat}'] = np.nan\n",
    "treesway_df"
   ]
  },
  {
   "cell_type": "markdown",
   "id": "5ebe5731",
   "metadata": {},
   "source": [
    "## For each video, aggregate frequency info for each region, source, and statistic"
   ]
  },
  {
   "cell_type": "code",
   "execution_count": 35,
   "id": "73710ebc",
   "metadata": {},
   "outputs": [],
   "source": [
    "# for each video\n",
    "for date, video in zip(treesway_df.index, treesway_df['vid_name']):\n",
    "    freq = np.load(os.path.join(PROCESSED_VIDS_PATH, f'{video}_freq.npy'))\n",
    "    pxx = np.load(os.path.join(PROCESSED_VIDS_PATH, f'{video}_pxx.npy'))\n",
    "    \n",
    "    for region in REGION_CONFIG.keys():\n",
    "        # clip freq array to roi\n",
    "        ymin, ymax, xmin, xmax = REGION_CONFIG[region]['roi']\n",
    "        pxx_roi = pxx[:, ymin:ymax, xmin:xmax]\n",
    "        \n",
    "        # Get spectrum peaks and apply filter to remove noise\n",
    "        peak_freq = vptsa.get_peak_freqs(freq, pxx)\n",
    "        peak_freq_masked = vptsa.mask_peak_freq(MASK_APPROACH, peak_freq, pxx)\n",
    "                  \n",
    "        stats_df = vptsa.get_freq_specs(peak_freq, peak_freq_masked)\n",
    "                  \n",
    "        for source in REGION_CONFIG[region]['sources']:\n",
    "            for stat in REGION_CONFIG[region]['stats']:\n",
    "                treesway_df.loc[date, f'{region}_{source}_{stat}'] = stats_df.loc[source][stat]"
   ]
  },
  {
   "cell_type": "code",
   "execution_count": 36,
   "id": "3d69bc74",
   "metadata": {},
   "outputs": [
    {
     "data": {
      "text/html": [
       "<div>\n",
       "<style scoped>\n",
       "    .dataframe tbody tr th:only-of-type {\n",
       "        vertical-align: middle;\n",
       "    }\n",
       "\n",
       "    .dataframe tbody tr th {\n",
       "        vertical-align: top;\n",
       "    }\n",
       "\n",
       "    .dataframe thead th {\n",
       "        text-align: right;\n",
       "    }\n",
       "</style>\n",
       "<table border=\"1\" class=\"dataframe\">\n",
       "  <thead>\n",
       "    <tr style=\"text-align: right;\">\n",
       "      <th></th>\n",
       "      <th>vid_name</th>\n",
       "      <th>drought_masked_mean</th>\n",
       "      <th>drought_masked_median</th>\n",
       "      <th>drought_masked_mode</th>\n",
       "      <th>drought_unmasked_mean</th>\n",
       "      <th>drought_unmasked_median</th>\n",
       "      <th>drought_unmasked_mode</th>\n",
       "    </tr>\n",
       "    <tr>\n",
       "      <th>datetime</th>\n",
       "      <th></th>\n",
       "      <th></th>\n",
       "      <th></th>\n",
       "      <th></th>\n",
       "      <th></th>\n",
       "      <th></th>\n",
       "      <th></th>\n",
       "    </tr>\n",
       "  </thead>\n",
       "  <tbody>\n",
       "    <tr>\n",
       "      <th>2022-05-15 11:30:00</th>\n",
       "      <td>GOPR0001</td>\n",
       "      <td>0.705923</td>\n",
       "      <td>0.696569</td>\n",
       "      <td>0.597059</td>\n",
       "      <td>0.672223</td>\n",
       "      <td>0.649741</td>\n",
       "      <td>0.597059</td>\n",
       "    </tr>\n",
       "    <tr>\n",
       "      <th>2022-05-15 12:00:00</th>\n",
       "      <td>GOPR0002</td>\n",
       "      <td>0.733821</td>\n",
       "      <td>0.755104</td>\n",
       "      <td>0.813639</td>\n",
       "      <td>0.640418</td>\n",
       "      <td>0.684862</td>\n",
       "      <td>0.813639</td>\n",
       "    </tr>\n",
       "    <tr>\n",
       "      <th>2022-06-07 09:00:00</th>\n",
       "      <td>GOPR0003</td>\n",
       "      <td>0.709996</td>\n",
       "      <td>0.714130</td>\n",
       "      <td>0.813639</td>\n",
       "      <td>0.682946</td>\n",
       "      <td>0.679008</td>\n",
       "      <td>0.813639</td>\n",
       "    </tr>\n",
       "  </tbody>\n",
       "</table>\n",
       "</div>"
      ],
      "text/plain": [
       "                     vid_name  drought_masked_mean  drought_masked_median  \\\n",
       "datetime                                                                    \n",
       "2022-05-15 11:30:00  GOPR0001             0.705923               0.696569   \n",
       "2022-05-15 12:00:00  GOPR0002             0.733821               0.755104   \n",
       "2022-06-07 09:00:00  GOPR0003             0.709996               0.714130   \n",
       "\n",
       "                     drought_masked_mode  drought_unmasked_mean  \\\n",
       "datetime                                                          \n",
       "2022-05-15 11:30:00             0.597059               0.672223   \n",
       "2022-05-15 12:00:00             0.813639               0.640418   \n",
       "2022-06-07 09:00:00             0.813639               0.682946   \n",
       "\n",
       "                     drought_unmasked_median  drought_unmasked_mode  \n",
       "datetime                                                             \n",
       "2022-05-15 11:30:00                 0.649741               0.597059  \n",
       "2022-05-15 12:00:00                 0.684862               0.813639  \n",
       "2022-06-07 09:00:00                 0.679008               0.813639  "
      ]
     },
     "execution_count": 36,
     "metadata": {},
     "output_type": "execute_result"
    }
   ],
   "source": [
    "treesway_df"
   ]
  },
  {
   "cell_type": "markdown",
   "id": "89cea5f6",
   "metadata": {},
   "source": [
    "## Save table"
   ]
  },
  {
   "cell_type": "code",
   "execution_count": 37,
   "id": "ce1bb8dc",
   "metadata": {},
   "outputs": [],
   "source": [
    "treesway_df.to_csv(TIMESERIES_PATH)"
   ]
  },
  {
   "cell_type": "markdown",
   "id": "aeae978c",
   "metadata": {},
   "source": [
    "## Plot variables of interest"
   ]
  },
  {
   "cell_type": "code",
   "execution_count": null,
   "id": "48e09a8f",
   "metadata": {},
   "outputs": [],
   "source": []
  }
 ],
 "metadata": {
  "kernelspec": {
   "display_name": "Python 3 (ipykernel)",
   "language": "python",
   "name": "python3"
  },
  "language_info": {
   "codemirror_mode": {
    "name": "ipython",
    "version": 3
   },
   "file_extension": ".py",
   "mimetype": "text/x-python",
   "name": "python",
   "nbconvert_exporter": "python",
   "pygments_lexer": "ipython3",
   "version": "3.7.11"
  }
 },
 "nbformat": 4,
 "nbformat_minor": 5
}
