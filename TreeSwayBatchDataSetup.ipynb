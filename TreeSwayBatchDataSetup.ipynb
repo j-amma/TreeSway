{
 "cells": [
  {
   "cell_type": "markdown",
   "id": "fedcd8a0",
   "metadata": {},
   "source": [
    "# Tree Sway Batch Processing Data Setup\n",
    "Joe Ammatelli | jamma@uw.edu | 8-12-22"
   ]
  },
  {
   "cell_type": "code",
   "execution_count": 34,
   "id": "b079543b",
   "metadata": {},
   "outputs": [],
   "source": [
    "import pandas as pd\n",
    "import os\n",
    "from datetime import timedelta"
   ]
  },
  {
   "cell_type": "markdown",
   "id": "34937df4",
   "metadata": {},
   "source": [
    "## Specify names of directories to parse and corresponding start datetime, specify names of output files"
   ]
  },
  {
   "cell_type": "code",
   "execution_count": 35,
   "id": "85920ab2",
   "metadata": {},
   "outputs": [],
   "source": [
    "directories = ['TreeSway_20200515_0607', 'TreeSway_20200607_0609']\n",
    "first_vid_datetimes = ['2022-05-15 11:30:00', '2022-06-07 9:00:00']\n",
    "\n",
    "name_datetime_output_fn = 'treesway_timeseries.csv'\n",
    "paths_output_fn = 'treesway_video_paths.txt'"
   ]
  },
  {
   "cell_type": "markdown",
   "id": "851d16e8",
   "metadata": {},
   "source": [
    "## Parse Directories: for each video infer name, compute datetime, and resolve path"
   ]
  },
  {
   "cell_type": "code",
   "execution_count": 36,
   "id": "b55f0005",
   "metadata": {},
   "outputs": [],
   "source": [
    "names = []\n",
    "datetimes = []\n",
    "paths = []"
   ]
  },
  {
   "cell_type": "code",
   "execution_count": 37,
   "id": "af20c86c",
   "metadata": {},
   "outputs": [],
   "source": [
    "first_vid_datetimes = pd.to_datetime(first_vid_datetimes)"
   ]
  },
  {
   "cell_type": "code",
   "execution_count": 38,
   "id": "01c1999d",
   "metadata": {},
   "outputs": [],
   "source": [
    "for i, directory in enumerate(directories):\n",
    "    first_vid_datetime = first_vid_datetimes[i]\n",
    "    \n",
    "    num_after_first = 0\n",
    "    \n",
    "    for file in os.listdir(directory):\n",
    "        if file[-4:].lower() == '.mp4':\n",
    "            names.append(file.split('.')[0])\n",
    "            datetimes.append(first_vid_datetime + pd.Timedelta(minutes=(15 * num_after_first)))\n",
    "            paths.append(os.path.abspath(os.path.join(directory, file)))\n",
    "            \n",
    "            num_after_first += 1"
   ]
  },
  {
   "cell_type": "markdown",
   "id": "a3827082",
   "metadata": {},
   "source": [
    "## Store datetime and video name in pandas dataframe, save in .csv"
   ]
  },
  {
   "cell_type": "code",
   "execution_count": 39,
   "id": "9d4682a1",
   "metadata": {},
   "outputs": [
    {
     "data": {
      "text/html": [
       "<div>\n",
       "<style scoped>\n",
       "    .dataframe tbody tr th:only-of-type {\n",
       "        vertical-align: middle;\n",
       "    }\n",
       "\n",
       "    .dataframe tbody tr th {\n",
       "        vertical-align: top;\n",
       "    }\n",
       "\n",
       "    .dataframe thead th {\n",
       "        text-align: right;\n",
       "    }\n",
       "</style>\n",
       "<table border=\"1\" class=\"dataframe\">\n",
       "  <thead>\n",
       "    <tr style=\"text-align: right;\">\n",
       "      <th></th>\n",
       "      <th>vid_name</th>\n",
       "    </tr>\n",
       "    <tr>\n",
       "      <th>datetime</th>\n",
       "      <th></th>\n",
       "    </tr>\n",
       "  </thead>\n",
       "  <tbody>\n",
       "    <tr>\n",
       "      <th>2022-05-15 11:30:00</th>\n",
       "      <td>GOPR0002</td>\n",
       "    </tr>\n",
       "    <tr>\n",
       "      <th>2022-05-15 12:00:00</th>\n",
       "      <td>GOPR0003</td>\n",
       "    </tr>\n",
       "    <tr>\n",
       "      <th>2022-06-07 09:00:00</th>\n",
       "      <td>GOPR0004</td>\n",
       "    </tr>\n",
       "    <tr>\n",
       "      <th>2022-06-07 09:30:00</th>\n",
       "      <td>GOPR0005</td>\n",
       "    </tr>\n",
       "  </tbody>\n",
       "</table>\n",
       "</div>"
      ],
      "text/plain": [
       "                     vid_name\n",
       "datetime                     \n",
       "2022-05-15 11:30:00  GOPR0002\n",
       "2022-05-15 12:00:00  GOPR0003\n",
       "2022-06-07 09:00:00  GOPR0004\n",
       "2022-06-07 09:30:00  GOPR0005"
      ]
     },
     "execution_count": 39,
     "metadata": {},
     "output_type": "execute_result"
    }
   ],
   "source": [
    "vids_df = pd.DataFrame({'datetime':datetimes, 'vid_name':names}).set_index('datetime')\n",
    "vids_df"
   ]
  },
  {
   "cell_type": "code",
   "execution_count": 40,
   "id": "28f34bdc",
   "metadata": {},
   "outputs": [],
   "source": [
    "vids_df.to_csv(name_datetime_output_fn)"
   ]
  },
  {
   "cell_type": "markdown",
   "id": "5115dffc",
   "metadata": {},
   "source": [
    "## Save video paths in .txt file (to serve as input for GNU parallel processing)"
   ]
  },
  {
   "cell_type": "code",
   "execution_count": 41,
   "id": "01fc5be9",
   "metadata": {},
   "outputs": [
    {
     "name": "stdout",
     "output_type": "stream",
     "text": [
      "Finish writed path to treesway_video_paths.txt\n"
     ]
    }
   ],
   "source": [
    "# open file in write mode\n",
    "with open(paths_output_fn, 'w') as fp:\n",
    "    for path in paths:\n",
    "        # write each item on a new line\n",
    "        fp.write(\"%s\\n\" % path)\n",
    "    print(f'Finish writed path to {paths_output_fn}')"
   ]
  }
 ],
 "metadata": {
  "kernelspec": {
   "display_name": "Python 3 (ipykernel)",
   "language": "python",
   "name": "python3"
  },
  "language_info": {
   "codemirror_mode": {
    "name": "ipython",
    "version": 3
   },
   "file_extension": ".py",
   "mimetype": "text/x-python",
   "name": "python",
   "nbconvert_exporter": "python",
   "pygments_lexer": "ipython3",
   "version": "3.7.11"
  }
 },
 "nbformat": 4,
 "nbformat_minor": 5
}
